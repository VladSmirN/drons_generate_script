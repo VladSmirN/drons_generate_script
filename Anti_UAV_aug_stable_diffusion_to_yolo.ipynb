{
 "cells": [
  {
   "cell_type": "markdown",
   "source": [
    "Нотбук для перевода сгенрирванного датасета через stable diffusion в датасет YOLO для детекции"
   ],
   "metadata": {
    "collapsed": false
   }
  },
  {
   "cell_type": "code",
   "execution_count": 21,
   "outputs": [],
   "source": [
    "from PIL import Image\n",
    "import os\n",
    "import pandas as pd\n",
    "import glob\n",
    "import shutil\n",
    "from tqdm.auto import tqdm\n",
    "from utility import check_yolo_label, parse_xml"
   ],
   "metadata": {
    "collapsed": false
   }
  },
  {
   "cell_type": "code",
   "execution_count": 22,
   "outputs": [],
   "source": [
    "IMAGE_INPUT_DIR = r\"C:\\project\\Computer_Vision\\term_paper_2023\\записи\\26.02\\Описание Anti_UAV_aug_stable_diffusion\\Anti_UAV_aug_stable_diffusion\"\n",
    "LABELS_INPUT_DIR = r\"C:\\project\\Computer_Vision\\term_paper_2023\\datasets\\antiuav_train\\xml\"\n",
    "\n",
    "def get_dron_df():\n",
    "    df = pd.DataFrame (glob.glob( os.path.join(IMAGE_INPUT_DIR,'*.jpg')), columns=['path_image'])\n",
    "    df['id_version'] = df['path_image'].apply(lambda x : x.split('\\\\')[-1].split('.')[0])\n",
    "    df['version'] = df['id_version'].apply(lambda x : x.split('_')[1])\n",
    "    df['id'] = df['id_version'].apply(lambda x : x.split('_')[0])\n",
    "    df['path_label'] = df['id'].apply(lambda x :  os.path.join(LABELS_INPUT_DIR,f\"{x}.xml\"))\n",
    "    return df"
   ],
   "metadata": {
    "collapsed": false
   }
  },
  {
   "cell_type": "code",
   "execution_count": 23,
   "outputs": [],
   "source": [
    "OUTPUT_DIR = r\"C:\\project\\Computer_Vision\\term_paper_2023\\записи\\26.02\\Описание Anti_UAV_aug_stable_diffusion\\Anti_UAV_aug_stable_diffusion_yolo\"\n",
    "IMAGE_OUTPUT_DIR = os.path.join(OUTPUT_DIR,\"images\" )\n",
    "LABEL_OUTPUT_DIR = os.path.join(OUTPUT_DIR,\"labels\" )\n",
    "if os.path.exists(OUTPUT_DIR):\n",
    "    shutil.rmtree(OUTPUT_DIR)\n",
    "\n",
    "os.makedirs(os.path.join(IMAGE_OUTPUT_DIR))\n",
    "os.makedirs(os.path.join(LABEL_OUTPUT_DIR))\n",
    "\n",
    "df_drons = get_dron_df()"
   ],
   "metadata": {
    "collapsed": false
   }
  },
  {
   "cell_type": "code",
   "execution_count": 24,
   "outputs": [],
   "source": [
    "def dataset2yolo(df):\n",
    "    for i, row in tqdm(df.iterrows()):\n",
    "        coords_drons , width_image, height_image = parse_xml(row['path_label'])\n",
    "        str_label_yolo = \"\"\n",
    "\n",
    "        xmin, ymin, xmax, ymax  = coords_drons[0]\n",
    "\n",
    "        width_drone = (xmax - xmin)\n",
    "        height_drone = (ymax - ymin)\n",
    "        width_drone_yolo = width_drone / width_image\n",
    "        height_drone_yolo = height_drone / height_image\n",
    "\n",
    "        x_center_yolo = (xmin + width_drone / 2) / width_image\n",
    "        y_center_yolo = (ymin + height_drone / 2) / height_image\n",
    "\n",
    "        str_label_yolo += f\"0 {x_center_yolo} {y_center_yolo} {width_drone_yolo} {height_drone_yolo} \\n\"\n",
    "\n",
    "        #CHECK LABEL\n",
    "        if i<5:\n",
    "            check_yolo_label(Image.open(row['path_image']), x_center_yolo, y_center_yolo, width_drone_yolo, height_drone_yolo )\n",
    "\n",
    "        path_label_output = os.path.join(LABEL_OUTPUT_DIR, row['id_version'] + '.txt')\n",
    "        image_save_path = os.path.join(IMAGE_OUTPUT_DIR, f\"{row['id_version']}.jpg\")\n",
    "\n",
    "        with open(path_label_output, 'w') as f:\n",
    "            f.write(str_label_yolo)\n",
    "\n",
    "        Image.open(row['path_image']).resize((512,512)).save(image_save_path)"
   ],
   "metadata": {
    "collapsed": false
   }
  },
  {
   "cell_type": "code",
   "execution_count": 25,
   "outputs": [
    {
     "data": {
      "text/plain": "0it [00:00, ?it/s]",
      "application/vnd.jupyter.widget-view+json": {
       "version_major": 2,
       "version_minor": 0,
       "model_id": "ea1a9555ebe0440d9e055d057385d386"
      }
     },
     "metadata": {},
     "output_type": "display_data"
    }
   ],
   "source": [
    "dataset2yolo(df_drons)"
   ],
   "metadata": {
    "collapsed": false
   }
  },
  {
   "cell_type": "code",
   "execution_count": 26,
   "outputs": [
    {
     "data": {
      "text/plain": "'C:\\\\project\\\\Computer_Vision\\\\term_paper_2023\\\\записи\\\\26.02\\\\Описание Anti_UAV_aug_stable_diffusion\\\\Anti_UAV_aug_stable_diffusion_yolo.zip'"
     },
     "execution_count": 26,
     "metadata": {},
     "output_type": "execute_result"
    }
   ],
   "source": [
    "shutil.make_archive(OUTPUT_DIR, 'zip', OUTPUT_DIR)"
   ],
   "metadata": {
    "collapsed": false
   }
  }
 ],
 "metadata": {
  "kernelspec": {
   "display_name": "Python 3",
   "language": "python",
   "name": "python3"
  },
  "language_info": {
   "codemirror_mode": {
    "name": "ipython",
    "version": 2
   },
   "file_extension": ".py",
   "mimetype": "text/x-python",
   "name": "python",
   "nbconvert_exporter": "python",
   "pygments_lexer": "ipython2",
   "version": "2.7.6"
  }
 },
 "nbformat": 4,
 "nbformat_minor": 0
}
