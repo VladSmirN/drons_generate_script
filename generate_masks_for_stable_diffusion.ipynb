{
 "cells": [
  {
   "cell_type": "code",
   "execution_count": 1,
   "metadata": {
    "collapsed": true
   },
   "outputs": [],
   "source": [
    "from PIL import Image\n",
    "import os\n",
    "import pandas as pd\n",
    "import glob\n",
    "import numpy as np\n",
    "import shutil\n",
    "from tqdm.auto import tqdm\n",
    "from utility import  parse_xml,check_yolo_label"
   ]
  },
  {
   "cell_type": "code",
   "execution_count": 2,
   "outputs": [],
   "source": [
    "OUTPUT_SIZE = 512\n",
    "ADDITIONAL_CLEARANCE = 15\n",
    "ADDITIONAL_CLEARANCE_SMALL_DRONE = 15\n",
    "NUMBER_OUTPUT_IMG = 1000000\n",
    "MIN_AREA_DRONE = 0.03\n",
    "MAX_AREA_DRONE = 0.05\n",
    "AREA_SMALL_DRONE =  0.1\n",
    "\n",
    "DATASET_DIR = r\"C:\\project\\Computer_Vision\\term_paper_2023\\datasets\\antiuav_train\"\n",
    "IMAGE_INPUT_DIR = r\"C:\\project\\Computer_Vision\\term_paper_2023\\datasets\\antiuav_train\\img\"\n",
    "LABEL_INPUT_DIR = r\"C:\\project\\Computer_Vision\\term_paper_2023\\datasets\\antiuav_train\\xml\"\n",
    "\n",
    "OUTPUT_DIR = r\"C:\\project\\Computer_Vision\\term_paper_2023\\antiuav_with_masks\"\n",
    "IMAGE_OUTPUT_DIR = r\"C:\\project\\Computer_Vision\\term_paper_2023\\antiuav_with_masks\\images\"\n",
    "LABEL_OUTPUT_DIR = r\"C:\\project\\Computer_Vision\\term_paper_2023\\antiuav_with_masks\\labels\"\n",
    "MASK_OUTPUT_DIR = r\"C:\\project\\Computer_Vision\\term_paper_2023\\antiuav_with_masks\\masks\"\n",
    "\n",
    "shutil.rmtree(OUTPUT_DIR)\n",
    "os.makedirs(os.path.join(IMAGE_OUTPUT_DIR))\n",
    "os.makedirs(os.path.join(LABEL_OUTPUT_DIR))\n",
    "os.makedirs(MASK_OUTPUT_DIR)\n",
    "\n",
    "\n",
    "def get_dron_df():\n",
    "    df = pd.DataFrame (glob.glob( os.path.join(IMAGE_INPUT_DIR,'*.jpg')), columns=['path_image'])\n",
    "    df['id'] = df['path_image'].apply(lambda x : x.split('\\\\')[-1].split('.')[0])\n",
    "    df['path_label'] = df['id'].apply(lambda x: os.path.join(LABEL_INPUT_DIR,f'{x}.xml'))\n",
    "    return df\n",
    "\n",
    "df_drons = get_dron_df()\n",
    "dron_statistics = []\n",
    "mask_statistics = []\n",
    "id_statistics = []\n",
    "additional_clearance_statistics = []"
   ],
   "metadata": {
    "collapsed": false
   }
  },
  {
   "cell_type": "code",
   "execution_count": 3,
   "outputs": [
    {
     "data": {
      "text/plain": "0it [00:00, ?it/s]",
      "application/vnd.jupyter.widget-view+json": {
       "version_major": 2,
       "version_minor": 0,
       "model_id": "c9d75be898ff49a5a5d102f41c1491a7"
      }
     },
     "metadata": {},
     "output_type": "display_data"
    }
   ],
   "source": [
    "\n",
    "for i, row in tqdm(df_drons.sample(frac=1)[:NUMBER_OUTPUT_IMG].iterrows()):\n",
    "\n",
    "    coords_drons, width_image, height_image = parse_xml(row['path_label'])\n",
    "\n",
    "    if len(coords_drons) == 0:\n",
    "        continue;\n",
    "\n",
    "    xmin, ymin, xmax, ymax = coords_drons[0]\n",
    "\n",
    "    drone_width_fraction = (xmax - xmin) / width_image\n",
    "    drone_height_fraction = (ymax - ymin) / height_image\n",
    "    drone_area_fraction = drone_width_fraction*drone_height_fraction\n",
    "    if  drone_height_fraction > MAX_AREA_DRONE or drone_height_fraction < MIN_AREA_DRONE:\n",
    "        continue\n",
    "\n",
    "    #Новые координаты\n",
    "    drone_width = int(drone_width_fraction*OUTPUT_SIZE)\n",
    "    drone_height = int(drone_height_fraction*OUTPUT_SIZE)\n",
    "    drone_width += 2 * ADDITIONAL_CLEARANCE_SMALL_DRONE\n",
    "    drone_height += 2 * ADDITIONAL_CLEARANCE_SMALL_DRONE\n",
    "    drone_xmin = int(xmin/width_image*OUTPUT_SIZE) - ADDITIONAL_CLEARANCE_SMALL_DRONE\n",
    "    drone_ymin = int(ymin/height_image*OUTPUT_SIZE) - ADDITIONAL_CLEARANCE_SMALL_DRONE\n",
    "    drone_xmax =  drone_xmin+drone_width\n",
    "    drone_ymax =  drone_ymin+drone_height\n",
    "\n",
    "    image = Image.open(row['path_image']).resize((OUTPUT_SIZE, OUTPUT_SIZE))\n",
    "    drone = image.crop((drone_xmin, drone_ymin, drone_xmax, drone_ymax))\n",
    "\n",
    "    #Смещение\n",
    "    drone_xmin = np.random.randint(0, OUTPUT_SIZE - drone_width, 1)[0]\n",
    "    drone_ymin = np.random.randint(0, OUTPUT_SIZE - drone_height, 1)[0]\n",
    "    drone_xmax =  drone_xmin+drone_width\n",
    "    drone_ymax =  drone_ymin+drone_height\n",
    "\n",
    "    mask = Image.new(\"RGBA\", (OUTPUT_SIZE, OUTPUT_SIZE), (255, 255, 255, 255))\n",
    "    rect = Image.new(\"RGBA\",  (drone_width, drone_height), (0, 0, 0, 255))\n",
    "    mask.paste(rect, (drone_xmin, drone_ymin))\n",
    "    # image.show()\n",
    "    image = Image.new(\"RGB\", (OUTPUT_SIZE, OUTPUT_SIZE), (255, 255, 255))\n",
    "    image.paste(drone, (drone_xmin, drone_ymin))\n",
    "    # drone.show()\n",
    "    # image.show()\n",
    "    # mask.show()\n",
    "    # break\n",
    "    image.save(os.path.join(IMAGE_OUTPUT_DIR, row['id'] + '.jpg'))\n",
    "    mask.save(os.path.join(MASK_OUTPUT_DIR, f\"{row['id']}.png\"))\n",
    "\n",
    "    x_center_yolo = (drone_xmin + drone_width / 2) / OUTPUT_SIZE\n",
    "    y_center_yolo = (drone_ymin + drone_height / 2) / OUTPUT_SIZE\n",
    "    str_label_yolo = f\"0 {x_center_yolo} {y_center_yolo} {drone_width_fraction} {drone_height_fraction}  \"\n",
    "    # check_yolo_label(image, x_center_yolo, y_center_yolo, drone_width_fraction, drone_height_fraction )\n",
    "    path_label_output = os.path.join(LABEL_OUTPUT_DIR, row['id'] + '.txt')\n",
    "    with open(path_label_output, 'w') as f:\n",
    "            f.write(str_label_yolo)\n",
    "\n",
    "    additional_clearance_statistics.append(ADDITIONAL_CLEARANCE_SMALL_DRONE)\n",
    "    dron_statistics.append(drone_area_fraction)\n",
    "    id_statistics.append(row['id'])\n",
    "    mask_statistics.append(drone_area_fraction/OUTPUT_SIZE/OUTPUT_SIZE)\n",
    "\n",
    "\n",
    "df_statistics = pd.DataFrame({'id': id_statistics,\n",
    "                              'dron': dron_statistics,\n",
    "                              'mask' : mask_statistics,\n",
    "                              'additional clearance': additional_clearance_statistics\n",
    "                              })\n",
    "df_statistics.to_csv(os.path.join(OUTPUT_DIR, \"statistics.csv\"))"
   ],
   "metadata": {
    "collapsed": false
   }
  },
  {
   "cell_type": "code",
   "execution_count": 3,
   "outputs": [],
   "source": [],
   "metadata": {
    "collapsed": false
   }
  },
  {
   "cell_type": "code",
   "execution_count": 3,
   "outputs": [],
   "source": [],
   "metadata": {
    "collapsed": false
   }
  }
 ],
 "metadata": {
  "kernelspec": {
   "display_name": "Python 3",
   "language": "python",
   "name": "python3"
  },
  "language_info": {
   "codemirror_mode": {
    "name": "ipython",
    "version": 2
   },
   "file_extension": ".py",
   "mimetype": "text/x-python",
   "name": "python",
   "nbconvert_exporter": "python",
   "pygments_lexer": "ipython2",
   "version": "2.7.6"
  }
 },
 "nbformat": 4,
 "nbformat_minor": 0
}
